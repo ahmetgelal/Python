{
 "cells": [
  {
   "cell_type": "code",
   "execution_count": 12,
   "metadata": {},
   "outputs": [
    {
     "name": "stdout",
     "output_type": "stream",
     "text": [
      "i nin degeri 0\n",
      "i nin degeri 1\n",
      "i nin degeri 2\n",
      "i nin degeri 3\n",
      "i nin degeri 4\n",
      "i nin degeri 5\n",
      "i nin degeri 6\n",
      "i nin degeri 7\n",
      "i nin degeri 8\n",
      "i nin degeri 9\n"
     ]
    }
   ],
   "source": [
    "i=0\n",
    "while (i<10):\n",
    "  print(\"i nin degeri {}\".format(i))\n",
    "  i+=1  \n",
    "   "
   ]
  },
  {
   "cell_type": "code",
   "execution_count": 18,
   "metadata": {},
   "outputs": [
    {
     "name": "stdout",
     "output_type": "stream",
     "text": [
      "index 0  eleman 1\n",
      "index 1  eleman 2\n",
      "index 2  eleman 3\n",
      "index 3  eleman 2\n",
      "index 4  eleman 1\n",
      "index 5  eleman 2\n",
      "index 6  eleman 3\n",
      "index 7  eleman 2\n",
      "index 8  eleman 1\n",
      "index 9  eleman 4\n",
      "index 10  eleman 5\n",
      "index 11  eleman 4\n",
      "index 12  eleman 3\n",
      "index 13  eleman 2\n"
     ]
    }
   ],
   "source": [
    "list=[1,2,3,2,1,2,3,2,1,4,5,4,3,2]\n",
    "i=0\n",
    "while(i<len(list)):\n",
    "    print(\"index {}  eleman {}\".format(i,list[i]))\n",
    "    i+=1"
   ]
  },
  {
   "cell_type": "code",
   "execution_count": null,
   "metadata": {},
   "outputs": [],
   "source": []
  }
 ],
 "metadata": {
  "kernelspec": {
   "display_name": "Python 3",
   "language": "python",
   "name": "python3"
  },
  "language_info": {
   "codemirror_mode": {
    "name": "ipython",
    "version": 3
   },
   "file_extension": ".py",
   "mimetype": "text/x-python",
   "name": "python",
   "nbconvert_exporter": "python",
   "pygments_lexer": "ipython3",
   "version": "3.7.6"
  }
 },
 "nbformat": 4,
 "nbformat_minor": 4
}
