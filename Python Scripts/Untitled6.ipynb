{
 "cells": [
  {
   "cell_type": "markdown",
   "metadata": {},
   "source": [
    "and or not  fonksiyonlari \n",
    "(1986 da ortaokuldayken ataride ogrendiklerim :)))"
   ]
  },
  {
   "cell_type": "code",
   "execution_count": 6,
   "metadata": {},
   "outputs": [
    {
     "name": "stdout",
     "output_type": "stream",
     "text": [
      "X=2\n",
      "y=2\n",
      "z=2\n",
      "Hepsi esit\n"
     ]
    }
   ],
   "source": [
    "x=input(\"X=\")\n",
    "x=int(x)\n",
    "y=input(\"y=\")\n",
    "y=int(y)\n",
    "z=input(\"z=\")\n",
    "z=int(z)\n",
    "\n",
    "if(x==y and y==z):\n",
    "    print(\"Hepsi esit\")\n",
    "elif(x==y or y==z):\n",
    "    print(\"bazilari esit\")\n",
    "elif(x!=y and y!=z and x!=z):\n",
    "    print(\"Hepsin farkli\")\n"
   ]
  },
  {
   "cell_type": "code",
   "execution_count": 8,
   "metadata": {},
   "outputs": [
    {
     "data": {
      "text/plain": [
       "True"
      ]
     },
     "execution_count": 8,
     "metadata": {},
     "output_type": "execute_result"
    }
   ],
   "source": [
    "x=5\n",
    "y=6\n",
    "not x==y\n"
   ]
  },
  {
   "cell_type": "markdown",
   "metadata": {},
   "source": []
  }
 ],
 "metadata": {
  "kernelspec": {
   "display_name": "Python 3",
   "language": "python",
   "name": "python3"
  },
  "language_info": {
   "codemirror_mode": {
    "name": "ipython",
    "version": 3
   },
   "file_extension": ".py",
   "mimetype": "text/x-python",
   "name": "python",
   "nbconvert_exporter": "python",
   "pygments_lexer": "ipython3",
   "version": "3.7.6"
  }
 },
 "nbformat": 4,
 "nbformat_minor": 4
}
